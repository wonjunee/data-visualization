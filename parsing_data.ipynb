{
 "cells": [
  {
   "cell_type": "markdown",
   "metadata": {
    "collapsed": true
   },
   "source": [
    "#### Note:\n",
    "**2008.csv** file is too large so it is not in my git repository. If you want to run the scripts then you may have to download the file from http://stat-computing.org/dataexpo/2009/the-data.html.\n",
    "\n",
    "*** Changes in Second version ***\n",
    "\n",
    "This is the second version of parsing data jupyter file. The edges data now include the number of flight during the specified month."
   ]
  },
  {
   "cell_type": "markdown",
   "metadata": {},
   "source": [
    "# Parsing the data\n",
    "### Final Project - Data Visualization Course\n",
    "### Udacity Data Analyst Nanodegree\n",
    "\n",
    "For this final project I will use 2008 flights data that I downloaded from http://stat-computing.org/dataexpo/2009/the-data.html. The file doesn't have the geographic coordination of each airport so I downloaded the file that contains the information of coordinates of each airport from https://gist.githubusercontent.com/tdreyno/4278655/raw/7b0762c09b519f40397e4c3e100b097d861f5588/airports.json.\n",
    "\n",
    "\n",
    "First I will load the json file and save it as a dictionary."
   ]
  },
  {
   "cell_type": "code",
   "execution_count": 4,
   "metadata": {
    "collapsed": false
   },
   "outputs": [],
   "source": [
    "### import necessary libraries\n",
    "import json\n",
    "\n",
    "### Create an empty dictionary\n",
    "airport_dict = {}\n",
    "\n",
    "### load the json file\n",
    "count = 0\n",
    "with open(\"airport.json\") as F:\n",
    "    for i in json.load(F):\n",
    "        try:\n",
    "            airport_dict[i['code']] = {'lon': i['lon'], 'lat': i['lat']}\n",
    "        except:\n",
    "            print i['code'], \":\", i['name']\n",
    "            count += 1"
   ]
  },
  {
   "cell_type": "code",
   "execution_count": 5,
   "metadata": {
    "collapsed": false
   },
   "outputs": [
    {
     "name": "stdout",
     "output_type": "stream",
     "text": [
      "Saved airports: 3885\n",
      "Excluded airports: 0\n"
     ]
    }
   ],
   "source": [
    "print \"Saved airports:\",len(airport_dict)\n",
    "print \"Excluded airports:\", count"
   ]
  },
  {
   "cell_type": "markdown",
   "metadata": {},
   "source": [
    "Now we will load the flights file and parse the data.\n",
    "\n",
    "Since there are too many records in this file I will filter the **February** data only. Only the records containing **OGD** are excluded because **airport_dict** dictionary doesn't contain this coordinate information. Everything else is saved as a csvfile."
   ]
  },
  {
   "cell_type": "code",
   "execution_count": 6,
   "metadata": {
    "collapsed": false
   },
   "outputs": [],
   "source": [
    "### load csv library\n",
    "import csv\n",
    "\n",
    "### Dictionary for avoiding redundancy\n",
    "redun = {}\n",
    "\n",
    "### load csv data\n",
    "with open(\"2008.csv\") as csvfile:\n",
    "    for i in csv.DictReader(csvfile):\n",
    "        if int(i[\"Month\"]) == 2:\n",
    "            if i['Dest'] != 'OGD':\n",
    "                ### Define the key avoiding redundancy.\n",
    "                if i['Dest'] < i['Origin']:\n",
    "                    DO = i['Dest']+\"-\"+i['Origin']\n",
    "                    Dest = 0\n",
    "                else:\n",
    "                    DO = i['Origin']+\"-\"+i['Dest']\n",
    "                    Dest = 1\n",
    "                \n",
    "                ### Save the data in redun dictionary\n",
    "                if DO not in redun.keys():\n",
    "                    if Dest == 0:\n",
    "                        redun[DO] = {\"flights\": 1, \n",
    "                                     \"Dest_lon\": airport_dict[i['Dest']]['lon'],\n",
    "                                     \"Dest_lat\": airport_dict[i['Dest']]['lat'],\n",
    "                                     \"Origin_lon\": airport_dict[i['Origin']]['lon'],\n",
    "                                     \"Origin_lat\": airport_dict[i['Origin']]['lat']}\n",
    "                    else:\n",
    "                        redun[DO] = {\"flights\": 1, \n",
    "                                     \"Dest_lon\": airport_dict[i['Origin']]['lon'],\n",
    "                                     \"Dest_lat\": airport_dict[i['Origin']]['lat'],\n",
    "                                     \"Origin_lon\": airport_dict[i['Dest']]['lon'],\n",
    "                                     \"Origin_lat\": airport_dict[i['Dest']]['lat']}\n",
    "                else:\n",
    "                    redun[DO][\"flights\"] += 1"
   ]
  },
  {
   "cell_type": "markdown",
   "metadata": {},
   "source": [
    "Now the flight data of February is saved as **redun**. Let's look at the first 10 items of the dictionary."
   ]
  },
  {
   "cell_type": "code",
   "execution_count": 7,
   "metadata": {
    "collapsed": false
   },
   "outputs": [
    {
     "name": "stdout",
     "output_type": "stream",
     "text": [
      "IAD-SFO\n",
      "\tDest lat: 38.9556, Dest lon: -77.4484\n",
      "\tOrigin lat: 37.6148, Origin lon: -122.392\n",
      "HNL-SEA\n",
      "\tDest lat: 21.3358, Dest lon: -157.919\n",
      "\tOrigin lat: 47.4405, Origin lon: -122.296\n",
      "OKC-STL\n",
      "\tDest lat: 35.3981, Dest lon: -97.5974\n",
      "\tOrigin lat: 38.7414, Origin lon: -90.3647\n",
      "MEM-MLI\n",
      "\tDest lat: 35.047, Dest lon: -89.9823\n",
      "\tOrigin lat: 41.4539, Origin lon: -90.5058\n",
      "MDW-RSW\n",
      "\tDest lat: 41.7875, Dest lon: -87.7416\n",
      "\tOrigin lat: 26.5228, Origin lon: -81.7531\n",
      "DFW-MOB\n",
      "\tDest lat: 32.9222, Dest lon: -97.0409\n",
      "\tOrigin lat: 30.6775, Origin lon: -88.243\n",
      "BOI-LAS\n",
      "\tDest lat: 43.5709, Dest lon: -116.222\n",
      "\tOrigin lat: 36.0806, Origin lon: -115.143\n",
      "COS-SAN\n",
      "\tDest lat: 38.7829, Dest lon: -104.697\n",
      "\tOrigin lat: 32.7299, Origin lon: -117.195\n",
      "BNA-BWI\n",
      "\tDest lat: 36.1342, Dest lon: -86.6682\n",
      "\tOrigin lat: 39.1841, Origin lon: -76.6745\n",
      "BOI-LAX\n",
      "\tDest lat: 43.5709, Dest lon: -116.222\n",
      "\tOrigin lat: 33.9456, Origin lon: -118.391\n"
     ]
    }
   ],
   "source": [
    "num = 1\n",
    "for k,v in redun.iteritems():\n",
    "    print \"{}\\n\\tDest lat: {}, Dest lon: {}\".format(k, v['Dest_lat'], v['Dest_lon'])\n",
    "    print \"\\tOrigin lat: {}, Origin lon: {}\".format(v['Origin_lat'], v['Origin_lon'])\n",
    "    if num == 10:\n",
    "        break\n",
    "    num+=1"
   ]
  },
  {
   "cell_type": "markdown",
   "metadata": {},
   "source": [
    "Let's look at the number of items in the dictionary."
   ]
  },
  {
   "cell_type": "code",
   "execution_count": 8,
   "metadata": {
    "collapsed": false
   },
   "outputs": [
    {
     "data": {
      "text/plain": [
       "2339"
      ]
     },
     "execution_count": 8,
     "metadata": {},
     "output_type": "execute_result"
    }
   ],
   "source": [
    "len(redun)"
   ]
  },
  {
   "cell_type": "markdown",
   "metadata": {},
   "source": [
    "There are **2339** items in the dictionary. In other words, there are that much of routes that can be visualized on the map. However, too many nodes and edges only confuse readers.\n",
    "\n",
    "First, I will divide the **key** into **Destination** and **Origin** separately and save each airport individually."
   ]
  },
  {
   "cell_type": "code",
   "execution_count": 46,
   "metadata": {
    "collapsed": false
   },
   "outputs": [
    {
     "data": {
      "text/plain": [
       "285"
      ]
     },
     "execution_count": 46,
     "metadata": {},
     "output_type": "execute_result"
    }
   ],
   "source": [
    "### iterate over redun dicationary\n",
    "DO_flights = {}\n",
    "for k,v in redun.iteritems():\n",
    "    airport_A = k.split(\"-\")[0]\n",
    "    airport_B = k.split(\"-\")[1]\n",
    "    if airport_A in DO_flights.keys():\n",
    "        DO_flights[airport_A] += v['flights']\n",
    "    else:\n",
    "        DO_flights[airport_A] = v['flights']\n",
    "        \n",
    "    if airport_B in DO_flights.keys():\n",
    "        DO_flights[airport_B] += v['flights']\n",
    "    else:\n",
    "        DO_flights[airport_B] = v['flights']\n",
    "\n",
    "len(DO_flights)"
   ]
  },
  {
   "cell_type": "code",
   "execution_count": 47,
   "metadata": {
    "collapsed": false
   },
   "outputs": [
    {
     "name": "stdout",
     "output_type": "stream",
     "text": [
      "Destinations and flights\n",
      "('ORD', 55959)\n",
      "('DEN', 37327)\n",
      "('PHX', 33197)\n",
      "('LAS', 28562)\n",
      "('SLC', 23368)\n",
      "('MSP', 21701)\n",
      "('MCO', 21406)\n",
      "('LGA', 19491)\n",
      "('BOS', 18856)\n",
      "('SEA', 15955)\n",
      "('PHL', 15618)\n",
      "('MDW', 14529)\n",
      "('MEM', 13297)\n",
      "('IAD', 12822)\n",
      "('OAK', 10896)\n",
      "('MIA', 10602)\n",
      "('CLE', 10165)\n",
      "('RDU', 9763)\n",
      "('BNA', 9115)\n",
      "('HOU', 8887)\n",
      "('DAL', 8723)\n",
      "('SNA', 8001)\n",
      "('PIT', 7123)\n",
      "('MSY', 6634)\n",
      "('ABQ', 6358)\n",
      "('RSW', 5621)\n",
      "('PBI', 5459)\n",
      "('BUR', 5195)\n",
      "('TUS', 4787)\n",
      "('OKC', 4264)\n"
     ]
    }
   ],
   "source": [
    "### Sort by value\n",
    "import pprint\n",
    "import operator\n",
    "\n",
    "Dest_sorted = sorted(DO_flights.items(), key=operator.itemgetter(1))\n",
    "\n",
    "### Print out the result\n",
    "print \"Destinations and flights\"\n",
    "top_Dest = ()\n",
    "for i in range(1,31):\n",
    "    print Dest_sorted[-i*2]\n",
    "    top_Dest += (Dest_sorted[-i*2][0],)"
   ]
  },
  {
   "cell_type": "markdown",
   "metadata": {},
   "source": [
    "Above is the list of **30** destinations that will be used in the data visualization project. Let's filter the **redun** dictionary with these detinations. "
   ]
  },
  {
   "cell_type": "code",
   "execution_count": 48,
   "metadata": {
    "collapsed": false
   },
   "outputs": [
    {
     "data": {
      "text/plain": [
       "258"
      ]
     },
     "execution_count": 48,
     "metadata": {},
     "output_type": "execute_result"
    }
   ],
   "source": [
    "### Filtering redun dictionary\n",
    "redun_filtered = {}\n",
    "\n",
    "for k,v in redun.iteritems():\n",
    "    if k.split(\"-\")[0] in top_Dest and k.split(\"-\")[1] in top_Dest:\n",
    "        redun_filtered[k] = v\n",
    "\n",
    "len(redun_filtered)"
   ]
  },
  {
   "cell_type": "markdown",
   "metadata": {},
   "source": [
    "There are total **30** nodes **96** edges. \n",
    "\n",
    "\n",
    "In this data visualization project, nodes and links properties in **D3.js** will be used to indicate the flight paths. So, I will parse the data to create arrays for nodes and links. Let's count the number of edges of each node and save it as **nodes.csv** file."
   ]
  },
  {
   "cell_type": "code",
   "execution_count": 49,
   "metadata": {
    "collapsed": false
   },
   "outputs": [
    {
     "data": {
      "text/plain": [
       "{'ABQ': 15,\n",
       " 'BNA': 19,\n",
       " 'BOS': 20,\n",
       " 'BUR': 6,\n",
       " 'CLE': 21,\n",
       " 'DAL': 4,\n",
       " 'DEN': 28,\n",
       " 'HOU': 12,\n",
       " 'IAD': 22,\n",
       " 'LAS': 26,\n",
       " 'LGA': 16,\n",
       " 'MCO': 22,\n",
       " 'MDW': 20,\n",
       " 'MEM': 17,\n",
       " 'MIA': 19,\n",
       " 'MSP': 23,\n",
       " 'MSY': 18,\n",
       " 'OAK': 14,\n",
       " 'OKC': 12,\n",
       " 'ORD': 24,\n",
       " 'PBI': 7,\n",
       " 'PHL': 21,\n",
       " 'PHX': 25,\n",
       " 'PIT': 15,\n",
       " 'RDU': 17,\n",
       " 'RSW': 11,\n",
       " 'SEA': 20,\n",
       " 'SLC': 23,\n",
       " 'SNA': 8,\n",
       " 'TUS': 11}"
      ]
     },
     "execution_count": 49,
     "metadata": {},
     "output_type": "execute_result"
    }
   ],
   "source": [
    "### Create arrays of the number of edges of each node\n",
    "edges_count = {}\n",
    "for dest in top_Dest:\n",
    "    edges_count[dest] = 0\n",
    "    for k in redun_filtered.keys():\n",
    "        if dest in k.split(\"-\"):\n",
    "            edges_count[dest] += 1\n",
    "\n",
    "edges_count"
   ]
  },
  {
   "cell_type": "code",
   "execution_count": 50,
   "metadata": {
    "collapsed": true
   },
   "outputs": [],
   "source": [
    "### Save the tuple as a csv file\n",
    "ind = 0\n",
    "nodes = {}\n",
    "with open(\"nodes.csv\", \"wb\") as F:\n",
    "    fieldnames = ['code', 'id', 'size', 'lon', 'lat'] \n",
    "    writer = csv.DictWriter(F, fieldnames=fieldnames)\n",
    "    writer.writeheader()\n",
    "\n",
    "    ### write rows\n",
    "    for dest in top_Dest:\n",
    "        tmp_dict = {}\n",
    "        tmp_dict['code'] = dest\n",
    "        tmp_dict['id'] = ind\n",
    "        tmp_dict['lon'] = airport_dict[dest]['lon']\n",
    "        tmp_dict['lat'] = airport_dict[dest]['lat']\n",
    "        tmp_dict['size'] = edges_count[dest]\n",
    "        \n",
    "        nodes[dest] = ind\n",
    "        writer.writerow(tmp_dict)\n",
    "        ind += 1"
   ]
  },
  {
   "cell_type": "markdown",
   "metadata": {},
   "source": [
    "Let's now save edges data."
   ]
  },
  {
   "cell_type": "code",
   "execution_count": 51,
   "metadata": {
    "collapsed": false
   },
   "outputs": [],
   "source": [
    "### Save the edges as a csv file\n",
    "with open(\"edges.csv\", \"wb\") as F:\n",
    "    fieldnames = [\"source\", \"target\", \"Dest\", \"Origin\", \"flights\"]\n",
    "    writer = csv.DictWriter(F, fieldnames = fieldnames)\n",
    "    writer.writeheader()\n",
    "    \n",
    "    ### iterate redun_filtered data and save edges\n",
    "    for k,v in redun_filtered.iteritems():\n",
    "        tmp_dict = {}\n",
    "        tmp_dict[\"source\"] = nodes[k.split(\"-\")[0]]\n",
    "        tmp_dict[\"target\"] = nodes[k.split(\"-\")[1]]\n",
    "        tmp_dict[\"Dest\"] = k.split(\"-\")[0]\n",
    "        tmp_dict[\"Origin\"] = k.split(\"-\")[1]\n",
    "        tmp_dict[\"flights\"] = v['flights']\n",
    "        writer.writerow(tmp_dict)"
   ]
  },
  {
   "cell_type": "markdown",
   "metadata": {},
   "source": [
    "Now the files are ready to be used in **D3.js** for data visualization. You can see the result in **final_project.html**."
   ]
  }
 ],
 "metadata": {
  "kernelspec": {
   "display_name": "Python 2",
   "language": "python",
   "name": "python2"
  },
  "language_info": {
   "codemirror_mode": {
    "name": "ipython",
    "version": 2
   },
   "file_extension": ".py",
   "mimetype": "text/x-python",
   "name": "python",
   "nbconvert_exporter": "python",
   "pygments_lexer": "ipython2",
   "version": "2.7.11"
  }
 },
 "nbformat": 4,
 "nbformat_minor": 0
}
